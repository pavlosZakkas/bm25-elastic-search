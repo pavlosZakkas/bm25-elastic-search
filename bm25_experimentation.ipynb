{
 "cells": [
  {
   "cell_type": "code",
   "execution_count": 44,
   "id": "223445e5",
   "metadata": {},
   "outputs": [],
   "source": [
    "from elasticsearch import Elasticsearch\n",
    "import ir_datasets\n",
    "from tqdm import tqdm\n",
    "from elasticsearch.helpers import bulk\n",
    "import pandas as pd\n",
    "import numpy as np\n",
    "from collections import namedtuple\n",
    "from matplotlib import pyplot as plt\n",
    "from nltk.tokenize import word_tokenize\n"
   ]
  },
  {
   "cell_type": "code",
   "execution_count": 79,
   "id": "ddef3744",
   "metadata": {},
   "outputs": [],
   "source": [
    "# INDEX = 'temp1'\n",
    "INDEX = 'docs'\n",
    "RETRIEVED_DOCS_INDEX = 'retrieved-docs'\n",
    "DATASET_URI = 'clinicaltrials/2021'\n",
    "QRELS_CSV = 'data/qrels2021.txt'\n",
    "QUERIES_CSV = 'data/queries_2021.tsv'\n",
    "\n",
    "MAX_NUMBER_OF_RETRIEVED_DOCS = 10_000\n",
    "\n",
    "# Dataframes columns\n",
    "DOC_ID = 'doc_id'\n",
    "QUERY_ID = 'query_id'\n",
    "QUERY_TEXT = 'query_text'\n",
    "LABEL = 'label'\n",
    "\n",
    "# Labels\n",
    "ELIGIBLE = 2\n",
    "EXCLUDED = 1\n",
    "NON_RELEVANT = 0\n",
    "\n",
    "# Similarity scores\n",
    "BM25_DEFAULT = 'default'\n",
    "ROBERTSON_BM25 = 'robertson'\n",
    "LUCENE_ACCURATE = 'lucene-accurate'\n",
    "ATIRE = 'atire'\n",
    "BM25_PLUS = 'bm25plus'\n",
    "BM25L = 'bm25l'\n",
    "TFldpIDF = 'tfldpidf'\n",
    "\n"
   ]
  },
  {
   "cell_type": "markdown",
   "id": "a38cbac6",
   "metadata": {},
   "source": [
    "## BM25 Varriants similarity scripts"
   ]
  },
  {
   "cell_type": "code",
   "execution_count": 85,
   "id": "734f914a",
   "metadata": {},
   "outputs": [],
   "source": [
    "ROBERTSON_BM25_SCRIPT = '''\n",
    "    double k1=1.2 ;\n",
    "    double b=0.75;\n",
    "\n",
    "    double avgLen = (double) field.sumTotalTermFreq / field.docCount;\n",
    "    double tf = doc.freq / (doc.freq + k1 * (1 - b + b * doc.length / avgLen));\n",
    "    double idf = Math.log((field.docCount - term.docFreq + 0.5) / (term.docFreq + 0.5));\n",
    "    return idf * tf;\n",
    "'''\n",
    "\n",
    "LUCENE_ACCURATE_SCRIPT = '''\n",
    "    double k1=1.2 ;\n",
    "    double b=0.75;\n",
    "\n",
    "    double avgLen = (double) field.sumTotalTermFreq / field.docCount;\n",
    "    double tf = doc.freq / (doc.freq + k1 * (1 - b + b * doc.length / avgLen));\n",
    "    double idf = Math.log(1 + (field.docCount - term.docFreq + 0.5) / (term.docFreq + 0.5));\n",
    "    return idf * tf;\n",
    "'''\n",
    "\n",
    "BM25_PLUS_SCRIPT = '''\n",
    "    double k1 = 1.2;\n",
    "    b = 0.75;\n",
    "    delta = 0.5;\n",
    "    \n",
    "    double avgLen = (double) field.sumTotalTermFreq / field.docCount;\n",
    "    \n",
    "    double idf = Math.log((field.docCount + 1) / (term.docFreq));\n",
    "    double tf = ((k1+1)*doc.freq) / (k1 * (1 - b + b * (doc.length/avgLen)) + term.docFreq) + delta;\n",
    "    \n",
    "    return idf * tf;\n",
    "\n",
    "'''\n",
    "\n",
    "TFldpIDF_SCRIPT = '''\n",
    "    double d = 0.5;\n",
    "    double b = 0.75;\n",
    "    \n",
    "    double docLength = doc.length;\n",
    "    double avgLen = (double) field.sumTotalTermFreq / field.docCount;\n",
    "    double idf = Math.log((field.docCount + 1) / (term.docFreq));\n",
    "    double tf = 1 + Math.log((doc.freq / (1 - b + b * (docLength / avgLen))) + d);\n",
    "    double tf_nlgain = 1 + Math.log(tf);\n",
    "    return idf * tf_nlgain;\n",
    "'''\n",
    "\n",
    "\n",
    "BM25L_SCRIPT = '''\n",
    "    double d = 0.5;\n",
    "    double k1=1.2 ;\n",
    "    double b=0.75;\n",
    "    \n",
    "    double docLength = doc.length;\n",
    "    double avgLen = (double) field.sumTotalTermFreq / field.docCount;\n",
    "    double idf = Math.log((field.docCount + 1) / (term.docFreq + 0.5));\n",
    "    double ctd = doc.freq / (1 - b + b * (doc.length / avgLen));\n",
    "    double tf = ((k1 + 1) * (ctd + d)) / (k1 + ctd + d); \n",
    "    return idf * tf;\n",
    "'''\n",
    "\n",
    "ATIRE_SCRIPT = '''\n",
    "    double k1 = 1.2;\n",
    "    b = 0.75;\n",
    "    double avgLen = (double) field.sumTotalTermFreq / field.docCount;\n",
    "    \n",
    "    double idf = Math.log(field.docCount / term.docFreq);\n",
    "    double tf = ((k1+1)doc.freq) / (k1 * (1 - b + b(doc.length/avgLen)) + term.docFreq);\n",
    "    \n",
    "    return idf * tf;\n",
    "'''\n",
    "\n",
    "\n",
    "SIMILARITY_BY_NAME = {\n",
    "    ROBERTSON_BM25: ROBERTSON_BM25_SCRIPT,\n",
    "    BM25_PLUS: BM25_PLUS_SCRIPT,\n",
    "    TFldpIDF: TFldpIDF_SCRIPT,\n",
    "    BM25L: BM25L_SCRIPT,\n",
    "    ATIRE: ATIRE_SCRIPT,\n",
    "    LUCENE_ACCURATE: LUCENE_ACCURATE_SCRIPT,\n",
    "}"
   ]
  },
  {
   "cell_type": "markdown",
   "id": "8fd8d209",
   "metadata": {},
   "source": [
    "## Connect to ElasticSearch"
   ]
  },
  {
   "cell_type": "code",
   "execution_count": 47,
   "id": "24913d37",
   "metadata": {},
   "outputs": [
    {
     "data": {
      "text/plain": [
       "{'acknowledged': True}"
      ]
     },
     "execution_count": 47,
     "metadata": {},
     "output_type": "execute_result"
    }
   ],
   "source": [
    "es = Elasticsearch()\n",
    "es.ping()\n",
    "es.indices.delete(INDEX)"
   ]
  },
  {
   "cell_type": "markdown",
   "id": "054b134e",
   "metadata": {},
   "source": [
    "## Create index"
   ]
  },
  {
   "cell_type": "code",
   "execution_count": 48,
   "id": "b72d32d4",
   "metadata": {},
   "outputs": [],
   "source": [
    "mapping = {\n",
    "   \"settings\":{\n",
    "      \"index\":{\n",
    "         \"number_of_shards\":1,\n",
    "         \"number_of_replicas\":1\n",
    "      },\n",
    "   },\n",
    "   \"mappings\":{\n",
    "      \"properties\":{\n",
    "         \"content\":{\n",
    "            \"type\":\"text\",\n",
    "            \"fielddata\":True,\n",
    "            \"term_vector\":\"with_positions_offsets_payloads\",\n",
    "            \"store\":True,\n",
    "            \"analyzer\":\"whitespace\",\n",
    "         }\n",
    "      }\n",
    "   }\n",
    "}"
   ]
  },
  {
   "cell_type": "code",
   "execution_count": 49,
   "id": "dd3b7b1e",
   "metadata": {},
   "outputs": [
    {
     "data": {
      "text/plain": [
       "{'acknowledged': True, 'shards_acknowledged': True, 'index': 'docs'}"
      ]
     },
     "execution_count": 49,
     "metadata": {},
     "output_type": "execute_result"
    }
   ],
   "source": [
    "es.indices.create(index=INDEX, ignore=400, body=mapping)"
   ]
  },
  {
   "cell_type": "markdown",
   "id": "ba6c3642",
   "metadata": {},
   "source": [
    "## Load and index documents"
   ]
  },
  {
   "cell_type": "code",
   "execution_count": 51,
   "id": "14bbe33c",
   "metadata": {},
   "outputs": [
    {
     "data": {
      "text/plain": [
       "(375580, [])"
      ]
     },
     "execution_count": 51,
     "metadata": {},
     "output_type": "execute_result"
    }
   ],
   "source": [
    "dataset = ir_datasets.load(DATASET_URI)\n",
    "docs = [\n",
    "    {'_index': INDEX, '_id': d.doc_id, 'content': d.summary + '\\n\\n' + d.detailed_description} \n",
    "    for d in dataset.docs_iter()\n",
    "    ]\n",
    "bulk(es, docs)"
   ]
  },
  {
   "cell_type": "code",
   "execution_count": 52,
   "id": "08dfce49",
   "metadata": {},
   "outputs": [],
   "source": [
    "doc2content = {doc['_id']: doc['content'] for doc in docs}"
   ]
  },
  {
   "cell_type": "markdown",
   "id": "7d7800c3",
   "metadata": {},
   "source": [
    "## Read queries"
   ]
  },
  {
   "cell_type": "code",
   "execution_count": 53,
   "id": "e0f038a7",
   "metadata": {},
   "outputs": [
    {
     "data": {
      "text/html": [
       "<div>\n",
       "<style scoped>\n",
       "    .dataframe tbody tr th:only-of-type {\n",
       "        vertical-align: middle;\n",
       "    }\n",
       "\n",
       "    .dataframe tbody tr th {\n",
       "        vertical-align: top;\n",
       "    }\n",
       "\n",
       "    .dataframe thead th {\n",
       "        text-align: right;\n",
       "    }\n",
       "</style>\n",
       "<table border=\"1\" class=\"dataframe\">\n",
       "  <thead>\n",
       "    <tr style=\"text-align: right;\">\n",
       "      <th></th>\n",
       "      <th>query_id</th>\n",
       "      <th>query_text</th>\n",
       "    </tr>\n",
       "  </thead>\n",
       "  <tbody>\n",
       "    <tr>\n",
       "      <th>0</th>\n",
       "      <td>1</td>\n",
       "      <td>Patient is a 45-year-old man with a history of...</td>\n",
       "    </tr>\n",
       "    <tr>\n",
       "      <th>1</th>\n",
       "      <td>2</td>\n",
       "      <td>48 M with a h/o HTN hyperlipidemia, bicuspid a...</td>\n",
       "    </tr>\n",
       "    <tr>\n",
       "      <th>2</th>\n",
       "      <td>3</td>\n",
       "      <td>A 32 yo woman who presents following a severe ...</td>\n",
       "    </tr>\n",
       "    <tr>\n",
       "      <th>3</th>\n",
       "      <td>4</td>\n",
       "      <td>This is a 44 year old female with PMH of PCOS,...</td>\n",
       "    </tr>\n",
       "    <tr>\n",
       "      <th>4</th>\n",
       "      <td>5</td>\n",
       "      <td>74M hx of CAD s/p CABG, EF 60% prior CVA (no r...</td>\n",
       "    </tr>\n",
       "  </tbody>\n",
       "</table>\n",
       "</div>"
      ],
      "text/plain": [
       "   query_id                                         query_text\n",
       "0         1  Patient is a 45-year-old man with a history of...\n",
       "1         2  48 M with a h/o HTN hyperlipidemia, bicuspid a...\n",
       "2         3  A 32 yo woman who presents following a severe ...\n",
       "3         4  This is a 44 year old female with PMH of PCOS,...\n",
       "4         5  74M hx of CAD s/p CABG, EF 60% prior CVA (no r..."
      ]
     },
     "execution_count": 53,
     "metadata": {},
     "output_type": "execute_result"
    }
   ],
   "source": [
    "queries = pd.read_csv(QUERIES_CSV, sep='\\t', header=None, names=[QUERY_ID, QUERY_TEXT])\n",
    "queries.head()"
   ]
  },
  {
   "cell_type": "code",
   "execution_count": 54,
   "id": "e3f29ffd",
   "metadata": {},
   "outputs": [
    {
     "data": {
      "text/plain": [
       "'Patient is a 45-year-old man with a history of anaplastic astrocytoma of the spine complicated by severe lower extremity weakness and urinary retention s/p Foley catheter, high-dose steroids, hypertension, and chronic pain. The tumor is located in the T-L spine, unresectable anaplastic astrocytoma s/p radiation. Complicated by progressive lower extremity weakness and urinary retention. Patient initially presented with RLE weakness where his right knee gave out with difficulty walking and right anterior thigh numbness. MRI showed a spinal cord conus mass which was biopsied and found to be anaplastic astrocytoma. Therapy included field radiation t10-l1 followed by 11 cycles of temozolomide 7 days on and 7 days off. This was followed by CPT-11 Weekly x4 with Avastin Q2 weeks/ 2 weeks rest and repeat cycle.'"
      ]
     },
     "execution_count": 54,
     "metadata": {},
     "output_type": "execute_result"
    }
   ],
   "source": [
    "def query_text_for(query_id):\n",
    "    return queries[queries[QUERY_ID] == query_id][QUERY_TEXT].item()\n",
    "\n",
    "query_text_for(1)"
   ]
  },
  {
   "cell_type": "markdown",
   "id": "db7240bd",
   "metadata": {},
   "source": [
    "## Read relevance judgements"
   ]
  },
  {
   "cell_type": "code",
   "execution_count": 55,
   "id": "d850143c",
   "metadata": {},
   "outputs": [],
   "source": [
    "qrels = pd.read_csv(QRELS_CSV, sep=' ', header=None, names=[QUERY_ID, 'redundant', DOC_ID, LABEL])\n",
    "qrels = qrels.drop('redundant', axis=1)"
   ]
  },
  {
   "cell_type": "markdown",
   "id": "be6831ba",
   "metadata": {},
   "source": [
    "### Helper functions to find qrels for specific query_id"
   ]
  },
  {
   "cell_type": "code",
   "execution_count": 56,
   "id": "8111c109",
   "metadata": {},
   "outputs": [],
   "source": [
    "def doc2label_for(query_id, qrels):\n",
    "    return dict(zip(qrels[qrels[QUERY_ID] == query_id][DOC_ID], qrels[LABEL]))\n",
    "\n",
    "def label2docs_for(query_id, qrels):\n",
    "    query_rels = qrels[qrels[QUERY_ID] == query_id]\n",
    "    label2docs = {}\n",
    "    \n",
    "    for label in qrels[LABEL].unique():\n",
    "        label2docs[label] = query_rels[query_rels[LABEL] == label][DOC_ID].tolist()\n",
    "    \n",
    "    return label2docs"
   ]
  },
  {
   "cell_type": "markdown",
   "id": "932bccde",
   "metadata": {},
   "source": [
    "## Data Exploratory Analysis"
   ]
  },
  {
   "cell_type": "code",
   "execution_count": 87,
   "id": "04f78fe1",
   "metadata": {},
   "outputs": [
    {
     "name": "stdout",
     "output_type": "stream",
     "text": [
      "Number of docs: 375580\n",
      "Empty descriptions: 126028\n",
      "Empty summaries: 842\n",
      "Empty descriptions and summaries: 842\n"
     ]
    }
   ],
   "source": [
    "empty_descriptions = 0\n",
    "empty_summaries = 0\n",
    "empty_both = 0\n",
    "docs_num = 0\n",
    "doc_lengths = []\n",
    "summary_lengths = []\n",
    "trial_lengths = []\n",
    "\n",
    "for d in dataset.docs_iter():\n",
    "    docs_num += 1\n",
    "    if d.detailed_description == '':\n",
    "        empty_descriptions += 1\n",
    "    if d.summary == '':\n",
    "        empty_summaries += 1\n",
    "    if d.summary == '' and d.detailed_description == '':\n",
    "        empty_both += 1\n",
    "        \n",
    "    doc_length = len(word_tokenize(d.detailed_description))\n",
    "    if doc_length > 0:\n",
    "        doc_lengths.append(doc_length)\n",
    "    \n",
    "    summary_length = len(word_tokenize(d.summary))\n",
    "    if summary_length > 0:\n",
    "        summary_lengths.append(summary_length)\n",
    "        \n",
    "    trial = d.summary + '\\n\\n' + d.detailed_description\n",
    "    trial_length = len(word_tokenize(trial))\n",
    "    if trial_length > 0:\n",
    "        trial_lengths.append(trial_length)\n",
    "        \n",
    "    \n",
    "        \n",
    "print(f'Number of docs: {docs_num}')\n",
    "print(f'Empty descriptions: {empty_descriptions}')\n",
    "print(f'Empty summaries: {empty_summaries}')\n",
    "print(f'Empty descriptions and summaries: {empty_both}')"
   ]
  },
  {
   "cell_type": "code",
   "execution_count": 89,
   "id": "6c8386f9",
   "metadata": {},
   "outputs": [
    {
     "data": {
      "text/html": [
       "<div>\n",
       "<style scoped>\n",
       "    .dataframe tbody tr th:only-of-type {\n",
       "        vertical-align: middle;\n",
       "    }\n",
       "\n",
       "    .dataframe tbody tr th {\n",
       "        vertical-align: top;\n",
       "    }\n",
       "\n",
       "    .dataframe thead th {\n",
       "        text-align: right;\n",
       "    }\n",
       "</style>\n",
       "<table border=\"1\" class=\"dataframe\">\n",
       "  <thead>\n",
       "    <tr style=\"text-align: right;\">\n",
       "      <th></th>\n",
       "      <th>0</th>\n",
       "    </tr>\n",
       "  </thead>\n",
       "  <tbody>\n",
       "    <tr>\n",
       "      <th>count</th>\n",
       "      <td>374738.000000</td>\n",
       "    </tr>\n",
       "    <tr>\n",
       "      <th>mean</th>\n",
       "      <td>103.457448</td>\n",
       "    </tr>\n",
       "    <tr>\n",
       "      <th>std</th>\n",
       "      <td>100.211718</td>\n",
       "    </tr>\n",
       "    <tr>\n",
       "      <th>min</th>\n",
       "      <td>1.000000</td>\n",
       "    </tr>\n",
       "    <tr>\n",
       "      <th>25%</th>\n",
       "      <td>37.000000</td>\n",
       "    </tr>\n",
       "    <tr>\n",
       "      <th>50%</th>\n",
       "      <td>67.000000</td>\n",
       "    </tr>\n",
       "    <tr>\n",
       "      <th>75%</th>\n",
       "      <td>131.000000</td>\n",
       "    </tr>\n",
       "    <tr>\n",
       "      <th>max</th>\n",
       "      <td>963.000000</td>\n",
       "    </tr>\n",
       "  </tbody>\n",
       "</table>\n",
       "</div>"
      ],
      "text/plain": [
       "                   0\n",
       "count  374738.000000\n",
       "mean      103.457448\n",
       "std       100.211718\n",
       "min         1.000000\n",
       "25%        37.000000\n",
       "50%        67.000000\n",
       "75%       131.000000\n",
       "max       963.000000"
      ]
     },
     "execution_count": 89,
     "metadata": {},
     "output_type": "execute_result"
    }
   ],
   "source": [
    "pd.DataFrame(data=summary_lengths).describe()"
   ]
  },
  {
   "cell_type": "code",
   "execution_count": 90,
   "id": "f44e8520",
   "metadata": {},
   "outputs": [
    {
     "data": {
      "text/html": [
       "<div>\n",
       "<style scoped>\n",
       "    .dataframe tbody tr th:only-of-type {\n",
       "        vertical-align: middle;\n",
       "    }\n",
       "\n",
       "    .dataframe tbody tr th {\n",
       "        vertical-align: top;\n",
       "    }\n",
       "\n",
       "    .dataframe thead th {\n",
       "        text-align: right;\n",
       "    }\n",
       "</style>\n",
       "<table border=\"1\" class=\"dataframe\">\n",
       "  <thead>\n",
       "    <tr style=\"text-align: right;\">\n",
       "      <th></th>\n",
       "      <th>0</th>\n",
       "    </tr>\n",
       "  </thead>\n",
       "  <tbody>\n",
       "    <tr>\n",
       "      <th>count</th>\n",
       "      <td>249552.000000</td>\n",
       "    </tr>\n",
       "    <tr>\n",
       "      <th>mean</th>\n",
       "      <td>326.131524</td>\n",
       "    </tr>\n",
       "    <tr>\n",
       "      <th>std</th>\n",
       "      <td>384.286018</td>\n",
       "    </tr>\n",
       "    <tr>\n",
       "      <th>min</th>\n",
       "      <td>1.000000</td>\n",
       "    </tr>\n",
       "    <tr>\n",
       "      <th>25%</th>\n",
       "      <td>115.000000</td>\n",
       "    </tr>\n",
       "    <tr>\n",
       "      <th>50%</th>\n",
       "      <td>213.000000</td>\n",
       "    </tr>\n",
       "    <tr>\n",
       "      <th>75%</th>\n",
       "      <td>387.000000</td>\n",
       "    </tr>\n",
       "    <tr>\n",
       "      <th>max</th>\n",
       "      <td>5999.000000</td>\n",
       "    </tr>\n",
       "  </tbody>\n",
       "</table>\n",
       "</div>"
      ],
      "text/plain": [
       "                   0\n",
       "count  249552.000000\n",
       "mean      326.131524\n",
       "std       384.286018\n",
       "min         1.000000\n",
       "25%       115.000000\n",
       "50%       213.000000\n",
       "75%       387.000000\n",
       "max      5999.000000"
      ]
     },
     "execution_count": 90,
     "metadata": {},
     "output_type": "execute_result"
    }
   ],
   "source": [
    "pd.DataFrame(data=doc_lengths).describe()"
   ]
  },
  {
   "cell_type": "code",
   "execution_count": 58,
   "id": "9bd1032a",
   "metadata": {},
   "outputs": [
    {
     "data": {
      "text/html": [
       "<div>\n",
       "<style scoped>\n",
       "    .dataframe tbody tr th:only-of-type {\n",
       "        vertical-align: middle;\n",
       "    }\n",
       "\n",
       "    .dataframe tbody tr th {\n",
       "        vertical-align: top;\n",
       "    }\n",
       "\n",
       "    .dataframe thead th {\n",
       "        text-align: right;\n",
       "    }\n",
       "</style>\n",
       "<table border=\"1\" class=\"dataframe\">\n",
       "  <thead>\n",
       "    <tr style=\"text-align: right;\">\n",
       "      <th></th>\n",
       "      <th>0</th>\n",
       "    </tr>\n",
       "  </thead>\n",
       "  <tbody>\n",
       "    <tr>\n",
       "      <th>count</th>\n",
       "      <td>374738.000000</td>\n",
       "    </tr>\n",
       "    <tr>\n",
       "      <th>mean</th>\n",
       "      <td>320.639484</td>\n",
       "    </tr>\n",
       "    <tr>\n",
       "      <th>std</th>\n",
       "      <td>388.311504</td>\n",
       "    </tr>\n",
       "    <tr>\n",
       "      <th>min</th>\n",
       "      <td>1.000000</td>\n",
       "    </tr>\n",
       "    <tr>\n",
       "      <th>25%</th>\n",
       "      <td>94.000000</td>\n",
       "    </tr>\n",
       "    <tr>\n",
       "      <th>50%</th>\n",
       "      <td>207.000000</td>\n",
       "    </tr>\n",
       "    <tr>\n",
       "      <th>75%</th>\n",
       "      <td>394.000000</td>\n",
       "    </tr>\n",
       "    <tr>\n",
       "      <th>max</th>\n",
       "      <td>6379.000000</td>\n",
       "    </tr>\n",
       "  </tbody>\n",
       "</table>\n",
       "</div>"
      ],
      "text/plain": [
       "                   0\n",
       "count  374738.000000\n",
       "mean      320.639484\n",
       "std       388.311504\n",
       "min         1.000000\n",
       "25%        94.000000\n",
       "50%       207.000000\n",
       "75%       394.000000\n",
       "max      6379.000000"
      ]
     },
     "execution_count": 58,
     "metadata": {},
     "output_type": "execute_result"
    },
    {
     "data": {
      "image/png": "[encoded data removed]",
      "text/plain": [
       "<Figure size 432x288 with 1 Axes>"
      ]
     },
     "metadata": {
      "needs_background": "light"
     },
     "output_type": "display_data"
    }
   ],
   "source": [
    "plt.hist(trial_lengths, bins=30)\n",
    "plt.xlabel('Document length (word count)')\n",
    "plt.xlabel('Number of documents')\n",
    "plt.title('Histogram of documents\\' lengths')\n",
    "pd.DataFrame(data=trial_lengths).describe()"
   ]
  },
  {
   "cell_type": "code",
   "execution_count": 59,
   "id": "39f928b1",
   "metadata": {},
   "outputs": [],
   "source": [
    "query_lengths = []\n",
    "for query_text in queries[QUERY_TEXT].to_list():\n",
    "    query_length = len(word_tokenize(query_text))\n",
    "    if query_length > 0:\n",
    "        query_lengths.append(query_length)"
   ]
  },
  {
   "cell_type": "code",
   "execution_count": 60,
   "id": "387d2ea3",
   "metadata": {},
   "outputs": [
    {
     "data": {
      "text/html": [
       "<div>\n",
       "<style scoped>\n",
       "    .dataframe tbody tr th:only-of-type {\n",
       "        vertical-align: middle;\n",
       "    }\n",
       "\n",
       "    .dataframe tbody tr th {\n",
       "        vertical-align: top;\n",
       "    }\n",
       "\n",
       "    .dataframe thead th {\n",
       "        text-align: right;\n",
       "    }\n",
       "</style>\n",
       "<table border=\"1\" class=\"dataframe\">\n",
       "  <thead>\n",
       "    <tr style=\"text-align: right;\">\n",
       "      <th></th>\n",
       "      <th>0</th>\n",
       "    </tr>\n",
       "  </thead>\n",
       "  <tbody>\n",
       "    <tr>\n",
       "      <th>count</th>\n",
       "      <td>75.000000</td>\n",
       "    </tr>\n",
       "    <tr>\n",
       "      <th>mean</th>\n",
       "      <td>156.226667</td>\n",
       "    </tr>\n",
       "    <tr>\n",
       "      <th>std</th>\n",
       "      <td>45.418348</td>\n",
       "    </tr>\n",
       "    <tr>\n",
       "      <th>min</th>\n",
       "      <td>58.000000</td>\n",
       "    </tr>\n",
       "    <tr>\n",
       "      <th>25%</th>\n",
       "      <td>134.000000</td>\n",
       "    </tr>\n",
       "    <tr>\n",
       "      <th>50%</th>\n",
       "      <td>154.000000</td>\n",
       "    </tr>\n",
       "    <tr>\n",
       "      <th>75%</th>\n",
       "      <td>181.500000</td>\n",
       "    </tr>\n",
       "    <tr>\n",
       "      <th>max</th>\n",
       "      <td>263.000000</td>\n",
       "    </tr>\n",
       "  </tbody>\n",
       "</table>\n",
       "</div>"
      ],
      "text/plain": [
       "                0\n",
       "count   75.000000\n",
       "mean   156.226667\n",
       "std     45.418348\n",
       "min     58.000000\n",
       "25%    134.000000\n",
       "50%    154.000000\n",
       "75%    181.500000\n",
       "max    263.000000"
      ]
     },
     "execution_count": 60,
     "metadata": {},
     "output_type": "execute_result"
    },
    {
     "data": {
      "image/png": "[encoded data removed]",
      "text/plain": [
       "<Figure size 432x288 with 1 Axes>"
      ]
     },
     "metadata": {
      "needs_background": "light"
     },
     "output_type": "display_data"
    }
   ],
   "source": [
    "plt.hist(query_lengths, bins=10)\n",
    "plt.xlabel('Query length (word count)')\n",
    "plt.xlabel('Number of queries')\n",
    "plt.title('Histogram of queries\\' lengths')\n",
    "pd.DataFrame(data=query_lengths).describe()"
   ]
  },
  {
   "cell_type": "markdown",
   "id": "e787e96f",
   "metadata": {},
   "source": [
    "## Evaluation metrics\n",
    "- precision\n",
    "- reciprocal rank\n",
    "- NDCG"
   ]
  },
  {
   "cell_type": "code",
   "execution_count": 61,
   "id": "081569b4",
   "metadata": {},
   "outputs": [],
   "source": [
    "def precision(retrieved_docs, label2docs, n=10):\n",
    "    relevant_docs = label2docs[ELIGIBLE] + label2docs[EXCLUDED]\n",
    "    \n",
    "    relevant_retrieved_docs = 0\n",
    "    for doc in retrieved_docs[:n]:\n",
    "        relevant_retrieved_docs += 1 if doc in relevant_docs else 0\n",
    "    \n",
    "    return relevant_retrieved_docs / n\n",
    "\n",
    "def reciprocal_rank(retrieced_docs, doc2label):\n",
    "    for rank, doc in enumerate(retrieced_docs):\n",
    "        if doc in doc2label and doc2label[doc] in [ELIGIBLE, EXCLUDED]:\n",
    "            return 1 / (rank + 1)\n",
    "    else:\n",
    "        return 0\n",
    "    \n",
    "def dcg_for(n_retrieced_docs, doc2label):\n",
    "    dcg = 0\n",
    "    for i, doc in enumerate(n_retrieced_docs):\n",
    "        position = i + 1\n",
    "        if doc in doc2label:\n",
    "            dcg += doc2label[doc] / np.log2(position) if position != 1 else doc2label[doc]\n",
    "\n",
    "    return dcg\n",
    "    \n",
    "def ndcg(retrieved_docs, doc2label, label2docs, n=10):\n",
    "    dcg = dcg_for(retrieved_docs[:n], doc2label)\n",
    "\n",
    "    relevant_docs_ordered_by_relevance = label2docs[ELIGIBLE] + label2docs[EXCLUDED]\n",
    "    ideal_dcg = dcg_for(relevant_docs_ordered_by_relevance[:n], doc2label)\n",
    "    \n",
    "    return dcg / ideal_dcg"
   ]
  },
  {
   "cell_type": "markdown",
   "id": "2dcbac44",
   "metadata": {},
   "source": [
    "# Retrieve documents with ElasticSearch"
   ]
  },
  {
   "cell_type": "markdown",
   "id": "4a082f96",
   "metadata": {},
   "source": [
    "### Helper functions to create ES query and retrieve doc ids"
   ]
  },
  {
   "cell_type": "code",
   "execution_count": 62,
   "id": "de79df55",
   "metadata": {},
   "outputs": [],
   "source": [
    "def es_query_for(query_text, max_size = MAX_NUMBER_OF_RETRIEVED_DOCS):\n",
    "    return {\n",
    "        \"size\": max_size,\n",
    "        \"query\": {\n",
    "            \"bool\": {\n",
    "                \"should\": [\n",
    "                    {\"match\": {\"content\": query_text}}\n",
    "                ] \n",
    "                ,\"minimum_should_match\": 1,\n",
    "                \"boost\": 1.0\n",
    "            },\n",
    "        }\n",
    "    }\n",
    "\n",
    "def es_search(es_query, es, index):\n",
    "    query_results = es.search(index=index, body=es_query)\n",
    "    return [hit['_id'] for hit in query_results['hits']['hits']]\n",
    "\n",
    "def retrieved_docs_for(query_id, es, index=INDEX):\n",
    "    es_query = es_query_for(query_text_for(query_id))\n",
    "    return es_search(es_query, es, index)"
   ]
  },
  {
   "cell_type": "markdown",
   "id": "024c6e05",
   "metadata": {},
   "source": [
    "#### Helper functions to store query evaluation metrics"
   ]
  },
  {
   "cell_type": "code",
   "execution_count": 63,
   "id": "8b47f773",
   "metadata": {},
   "outputs": [],
   "source": [
    "evaluation_metrics = ['precision10', 'reciprocal_rank10', 'ndcg5', 'ndcg10']\n",
    "\n",
    "Metrics = namedtuple('Metrics', evaluation_metrics)\n",
    "\n",
    "def df_from(metrics):\n",
    "    data = [ [m.precision10, m.reciprocal_rank10, m.ndcg5, m.ndcg10] for m in metrics ]\n",
    "    df = pd.DataFrame(data, columns = evaluation_metrics)\n",
    "    df.index = df.index + 1\n",
    "    return df"
   ]
  },
  {
   "cell_type": "markdown",
   "id": "131e71bf",
   "metadata": {},
   "source": [
    "## Retrieval methods"
   ]
  },
  {
   "cell_type": "markdown",
   "id": "897dcb6a",
   "metadata": {},
   "source": [
    "### Retrieve 10k docs with default elastic-search retrieval method"
   ]
  },
  {
   "cell_type": "code",
   "execution_count": 64,
   "id": "4c9999c5",
   "metadata": {},
   "outputs": [
    {
     "name": "stderr",
     "output_type": "stream",
     "text": [
      "100%|██████████| 75/75 [02:01<00:00,  1.62s/it]\n"
     ]
    },
    {
     "data": {
      "text/html": [
       "<div>\n",
       "<style scoped>\n",
       "    .dataframe tbody tr th:only-of-type {\n",
       "        vertical-align: middle;\n",
       "    }\n",
       "\n",
       "    .dataframe tbody tr th {\n",
       "        vertical-align: top;\n",
       "    }\n",
       "\n",
       "    .dataframe thead th {\n",
       "        text-align: right;\n",
       "    }\n",
       "</style>\n",
       "<table border=\"1\" class=\"dataframe\">\n",
       "  <thead>\n",
       "    <tr style=\"text-align: right;\">\n",
       "      <th></th>\n",
       "      <th>precision10</th>\n",
       "      <th>reciprocal_rank10</th>\n",
       "      <th>ndcg5</th>\n",
       "      <th>ndcg10</th>\n",
       "    </tr>\n",
       "  </thead>\n",
       "  <tbody>\n",
       "    <tr>\n",
       "      <th>count</th>\n",
       "      <td>75.000000</td>\n",
       "      <td>75.000000</td>\n",
       "      <td>75.000000</td>\n",
       "      <td>75.000000</td>\n",
       "    </tr>\n",
       "    <tr>\n",
       "      <th>mean</th>\n",
       "      <td>0.260000</td>\n",
       "      <td>0.509278</td>\n",
       "      <td>0.386254</td>\n",
       "      <td>0.369811</td>\n",
       "    </tr>\n",
       "    <tr>\n",
       "      <th>std</th>\n",
       "      <td>0.250405</td>\n",
       "      <td>0.358396</td>\n",
       "      <td>0.400757</td>\n",
       "      <td>0.296927</td>\n",
       "    </tr>\n",
       "    <tr>\n",
       "      <th>min</th>\n",
       "      <td>0.000000</td>\n",
       "      <td>0.038462</td>\n",
       "      <td>0.000000</td>\n",
       "      <td>0.000000</td>\n",
       "    </tr>\n",
       "    <tr>\n",
       "      <th>25%</th>\n",
       "      <td>0.000000</td>\n",
       "      <td>0.166667</td>\n",
       "      <td>0.000000</td>\n",
       "      <td>0.146912</td>\n",
       "    </tr>\n",
       "    <tr>\n",
       "      <th>50%</th>\n",
       "      <td>0.200000</td>\n",
       "      <td>0.500000</td>\n",
       "      <td>0.280772</td>\n",
       "      <td>0.295966</td>\n",
       "    </tr>\n",
       "    <tr>\n",
       "      <th>75%</th>\n",
       "      <td>0.450000</td>\n",
       "      <td>1.000000</td>\n",
       "      <td>0.542192</td>\n",
       "      <td>0.519286</td>\n",
       "    </tr>\n",
       "    <tr>\n",
       "      <th>max</th>\n",
       "      <td>0.900000</td>\n",
       "      <td>1.000000</td>\n",
       "      <td>1.877215</td>\n",
       "      <td>1.317917</td>\n",
       "    </tr>\n",
       "  </tbody>\n",
       "</table>\n",
       "</div>"
      ],
      "text/plain": [
       "       precision10  reciprocal_rank10      ndcg5     ndcg10\n",
       "count    75.000000          75.000000  75.000000  75.000000\n",
       "mean      0.260000           0.509278   0.386254   0.369811\n",
       "std       0.250405           0.358396   0.400757   0.296927\n",
       "min       0.000000           0.038462   0.000000   0.000000\n",
       "25%       0.000000           0.166667   0.000000   0.146912\n",
       "50%       0.200000           0.500000   0.280772   0.295966\n",
       "75%       0.450000           1.000000   0.542192   0.519286\n",
       "max       0.900000           1.000000   1.877215   1.317917"
      ]
     },
     "execution_count": 64,
     "metadata": {},
     "output_type": "execute_result"
    }
   ],
   "source": [
    "queries_metrics = []\n",
    "retrieved_docs_per_query = {}\n",
    "for query_id in tqdm(queries[QUERY_ID].unique()):\n",
    "    retrieved_docs = retrieved_docs_for(query_id, es)\n",
    "    doc2label = doc2label_for(query_id, qrels)\n",
    "    label2docs = label2docs_for(query_id, qrels)\n",
    "    \n",
    "    retrieved_docs_per_query[query_id] = retrieved_docs\n",
    "    \n",
    "    metrics = Metrics(\n",
    "        precision10=precision(retrieved_docs, label2docs),\n",
    "        reciprocal_rank10=reciprocal_rank(retrieved_docs, doc2label),\n",
    "        ndcg5=ndcg(retrieved_docs, doc2label, label2docs, n=5),\n",
    "        ndcg10=ndcg(retrieved_docs, doc2label, label2docs, n=10),\n",
    "    )\n",
    "    \n",
    "    queries_metrics.append(metrics)\n",
    "    \n",
    "df_from(queries_metrics).describe()"
   ]
  },
  {
   "cell_type": "markdown",
   "id": "54d5a4fd",
   "metadata": {},
   "source": [
    "# Retrieval methods comparison"
   ]
  },
  {
   "cell_type": "markdown",
   "id": "cbec8bf9",
   "metadata": {},
   "source": [
    "### Helper functions to index 10k docs based on given similarity script"
   ]
  },
  {
   "cell_type": "code",
   "execution_count": 65,
   "id": "fb154f2b",
   "metadata": {},
   "outputs": [],
   "source": [
    "def mapping_for(similarity_script):\n",
    "    return {\n",
    "        \"settings\":{\n",
    "            \"index\":{\n",
    "                \"number_of_shards\":1,\n",
    "                \"number_of_replicas\":1\n",
    "            },\n",
    "            \"similarity\": {\n",
    "                \"scripted_bm25\": {\n",
    "                    \"type\": \"scripted\",\n",
    "                    \"script\": {\n",
    "                        \"source\": similarity_script\n",
    "                    }\n",
    "                }\n",
    "            }\n",
    "        },\n",
    "        \"mappings\":{\n",
    "            \"properties\":{\n",
    "                \"content\":{\n",
    "                    \"type\":\"text\",\n",
    "                    \"fielddata\":True,\n",
    "                    \"term_vector\":\"with_positions_offsets_payloads\",\n",
    "                    \"store\":True,\n",
    "                    \"analyzer\":\"whitespace\",\n",
    "                    \"similarity\": \"scripted_bm25\"\n",
    "                }\n",
    "            }\n",
    "        }\n",
    "    }\n",
    "\n",
    "def index_docs_using_custom_similarity(\n",
    "    retrieved_docs_per_query,\n",
    "    similarity_name,\n",
    "    doc2content=doc2content,\n",
    "    index_prefix=RETRIEVED_DOCS_INDEX,\n",
    "):\n",
    "    similarity_index_prefix = f'{index_prefix}-{similarity_name}'\n",
    "    for query_id, retrieved_docs in retrieved_docs_per_query.items():\n",
    "    \n",
    "        index = f'{similarity_index_prefix}-{query_id}'\n",
    "        \n",
    "        es.indices.delete(index) if es.indices.exists(index=index) else None \n",
    "        es.indices.create(index=index, ignore=400, body=mapping_for(SIMILARITY_BY_NAME[similarity_name]))\n",
    "        \n",
    "        docs = [\n",
    "            {'_index': index, '_id': doc_id, 'content': doc2content[doc_id]} \n",
    "            for doc_id in retrieved_docs\n",
    "        ]\n",
    "\n",
    "        bulk(es, docs)\n",
    "        \n",
    "    return similarity_index_prefix"
   ]
  },
  {
   "cell_type": "markdown",
   "id": "b628998c",
   "metadata": {},
   "source": [
    "### Helper functions to get the queries metrics dataframe for a given index"
   ]
  },
  {
   "cell_type": "code",
   "execution_count": 66,
   "id": "0f1b6b43",
   "metadata": {},
   "outputs": [],
   "source": [
    "def queries_metrics_df_for(index_prefix):\n",
    "    queries_metrics = []\n",
    "    for query_id in tqdm(queries[QUERY_ID].unique()):\n",
    "        retrieved_docs = retrieved_docs_for(query_id, es, f'{index_prefix}-{query_id}')\n",
    "        doc2label = doc2label_for(query_id, qrels)\n",
    "        label2docs = label2docs_for(query_id, qrels)\n",
    "        \n",
    "        metrics = Metrics(\n",
    "            precision10=precision(retrieved_docs, label2docs),\n",
    "            reciprocal_rank10=reciprocal_rank(retrieved_docs, doc2label),\n",
    "            ndcg5=ndcg(retrieved_docs, doc2label, label2docs, n=5),\n",
    "            ndcg10=ndcg(retrieved_docs, doc2label, label2docs, n=10),\n",
    "        )\n",
    "        \n",
    "        queries_metrics.append(metrics)\n",
    "        \n",
    "    return df_from(queries_metrics)"
   ]
  },
  {
   "cell_type": "markdown",
   "id": "9ef932df",
   "metadata": {},
   "source": [
    "## Evaluation: Elastic search default method"
   ]
  },
  {
   "cell_type": "markdown",
   "id": "72fcec1d",
   "metadata": {},
   "source": [
    "### create an index for each query's retrieved docs using the default BM25 method"
   ]
  },
  {
   "cell_type": "code",
   "execution_count": 67,
   "id": "5569eb16",
   "metadata": {},
   "outputs": [],
   "source": [
    "default_index_prefix = f'{RETRIEVED_DOCS_INDEX}-{BM25_DEFAULT}'\n",
    "\n",
    "for query_id, retrieved_docs in retrieved_docs_per_query.items():\n",
    "    \n",
    "    index = f'{default_index_prefix}-{query_id}'\n",
    "    es.indices.create(index=index, ignore=400, body=mapping)\n",
    "    docs10k = [\n",
    "                {'_index': index, '_id': doc_id, 'content': doc2content[doc_id]} \n",
    "                for doc_id in retrieved_docs\n",
    "            ]\n",
    "\n",
    "    bulk(es, docs10k)\n"
   ]
  },
  {
   "cell_type": "code",
   "execution_count": 68,
   "id": "4a29aa99",
   "metadata": {},
   "outputs": [
    {
     "name": "stderr",
     "output_type": "stream",
     "text": [
      "100%|██████████| 75/75 [02:30<00:00,  2.01s/it]\n"
     ]
    },
    {
     "data": {
      "text/html": [
       "<div>\n",
       "<style scoped>\n",
       "    .dataframe tbody tr th:only-of-type {\n",
       "        vertical-align: middle;\n",
       "    }\n",
       "\n",
       "    .dataframe tbody tr th {\n",
       "        vertical-align: top;\n",
       "    }\n",
       "\n",
       "    .dataframe thead th {\n",
       "        text-align: right;\n",
       "    }\n",
       "</style>\n",
       "<table border=\"1\" class=\"dataframe\">\n",
       "  <thead>\n",
       "    <tr style=\"text-align: right;\">\n",
       "      <th></th>\n",
       "      <th>precision10</th>\n",
       "      <th>reciprocal_rank10</th>\n",
       "      <th>ndcg5</th>\n",
       "      <th>ndcg10</th>\n",
       "    </tr>\n",
       "  </thead>\n",
       "  <tbody>\n",
       "    <tr>\n",
       "      <th>count</th>\n",
       "      <td>75.000000</td>\n",
       "      <td>75.000000</td>\n",
       "      <td>75.000000</td>\n",
       "      <td>75.000000</td>\n",
       "    </tr>\n",
       "    <tr>\n",
       "      <th>mean</th>\n",
       "      <td>0.262667</td>\n",
       "      <td>0.538387</td>\n",
       "      <td>0.400433</td>\n",
       "      <td>0.384488</td>\n",
       "    </tr>\n",
       "    <tr>\n",
       "      <th>std</th>\n",
       "      <td>0.241489</td>\n",
       "      <td>0.354550</td>\n",
       "      <td>0.363483</td>\n",
       "      <td>0.277358</td>\n",
       "    </tr>\n",
       "    <tr>\n",
       "      <th>min</th>\n",
       "      <td>0.000000</td>\n",
       "      <td>0.018519</td>\n",
       "      <td>0.000000</td>\n",
       "      <td>0.000000</td>\n",
       "    </tr>\n",
       "    <tr>\n",
       "      <th>25%</th>\n",
       "      <td>0.000000</td>\n",
       "      <td>0.250000</td>\n",
       "      <td>0.156917</td>\n",
       "      <td>0.170462</td>\n",
       "    </tr>\n",
       "    <tr>\n",
       "      <th>50%</th>\n",
       "      <td>0.200000</td>\n",
       "      <td>0.500000</td>\n",
       "      <td>0.345651</td>\n",
       "      <td>0.334111</td>\n",
       "    </tr>\n",
       "    <tr>\n",
       "      <th>75%</th>\n",
       "      <td>0.400000</td>\n",
       "      <td>1.000000</td>\n",
       "      <td>0.574071</td>\n",
       "      <td>0.528115</td>\n",
       "    </tr>\n",
       "    <tr>\n",
       "      <th>max</th>\n",
       "      <td>0.900000</td>\n",
       "      <td>1.000000</td>\n",
       "      <td>1.834710</td>\n",
       "      <td>1.240199</td>\n",
       "    </tr>\n",
       "  </tbody>\n",
       "</table>\n",
       "</div>"
      ],
      "text/plain": [
       "       precision10  reciprocal_rank10      ndcg5     ndcg10\n",
       "count    75.000000          75.000000  75.000000  75.000000\n",
       "mean      0.262667           0.538387   0.400433   0.384488\n",
       "std       0.241489           0.354550   0.363483   0.277358\n",
       "min       0.000000           0.018519   0.000000   0.000000\n",
       "25%       0.000000           0.250000   0.156917   0.170462\n",
       "50%       0.200000           0.500000   0.345651   0.334111\n",
       "75%       0.400000           1.000000   0.574071   0.528115\n",
       "max       0.900000           1.000000   1.834710   1.240199"
      ]
     },
     "execution_count": 68,
     "metadata": {},
     "output_type": "execute_result"
    }
   ],
   "source": [
    "default_bm25_metrics = queries_metrics_df_for(default_index_prefix)\n",
    "default_bm25_metrics.describe()"
   ]
  },
  {
   "cell_type": "markdown",
   "id": "70abf553",
   "metadata": {},
   "source": [
    "## Baseline: Robertson BM25 \n",
    "- cannot work with Elastic search because it returns negative scores which is not allowed"
   ]
  },
  {
   "cell_type": "code",
   "execution_count": null,
   "id": "e999fe2e",
   "metadata": {},
   "outputs": [],
   "source": [
    "# bm25_variant_index_prefix = index_docs_using_custom_similarity(retrieved_docs_per_query, ROBERTSON_BM25)\n",
    "# bm25_variant_metrics = queries_metrics_df_for(bm25_variant_index_prefix)\n",
    "# bm25_variant_metrics.describe()"
   ]
  },
  {
   "cell_type": "markdown",
   "id": "70abf553",
   "metadata": {},
   "source": [
    "## Evaluation: BM25+"
   ]
  },
  {
   "cell_type": "code",
   "execution_count": 71,
   "id": "e999fe2e",
   "metadata": {},
   "outputs": [
    {
     "name": "stderr",
     "output_type": "stream",
     "text": [
      "100%|██████████| 75/75 [02:02<00:00,  1.64s/it]\n"
     ]
    },
    {
     "data": {
      "text/html": [
       "<div>\n",
       "<style scoped>\n",
       "    .dataframe tbody tr th:only-of-type {\n",
       "        vertical-align: middle;\n",
       "    }\n",
       "\n",
       "    .dataframe tbody tr th {\n",
       "        vertical-align: top;\n",
       "    }\n",
       "\n",
       "    .dataframe thead th {\n",
       "        text-align: right;\n",
       "    }\n",
       "</style>\n",
       "<table border=\"1\" class=\"dataframe\">\n",
       "  <thead>\n",
       "    <tr style=\"text-align: right;\">\n",
       "      <th></th>\n",
       "      <th>precision10</th>\n",
       "      <th>reciprocal_rank10</th>\n",
       "      <th>ndcg5</th>\n",
       "      <th>ndcg10</th>\n",
       "    </tr>\n",
       "  </thead>\n",
       "  <tbody>\n",
       "    <tr>\n",
       "      <th>count</th>\n",
       "      <td>75.000000</td>\n",
       "      <td>75.000000</td>\n",
       "      <td>75.000000</td>\n",
       "      <td>75.000000</td>\n",
       "    </tr>\n",
       "    <tr>\n",
       "      <th>mean</th>\n",
       "      <td>0.250667</td>\n",
       "      <td>0.594562</td>\n",
       "      <td>0.435182</td>\n",
       "      <td>0.418149</td>\n",
       "    </tr>\n",
       "    <tr>\n",
       "      <th>std</th>\n",
       "      <td>0.233871</td>\n",
       "      <td>0.372853</td>\n",
       "      <td>0.440934</td>\n",
       "      <td>0.314972</td>\n",
       "    </tr>\n",
       "    <tr>\n",
       "      <th>min</th>\n",
       "      <td>0.000000</td>\n",
       "      <td>0.045455</td>\n",
       "      <td>0.000000</td>\n",
       "      <td>0.000000</td>\n",
       "    </tr>\n",
       "    <tr>\n",
       "      <th>25%</th>\n",
       "      <td>0.100000</td>\n",
       "      <td>0.250000</td>\n",
       "      <td>0.163927</td>\n",
       "      <td>0.196034</td>\n",
       "    </tr>\n",
       "    <tr>\n",
       "      <th>50%</th>\n",
       "      <td>0.200000</td>\n",
       "      <td>0.500000</td>\n",
       "      <td>0.305466</td>\n",
       "      <td>0.346882</td>\n",
       "    </tr>\n",
       "    <tr>\n",
       "      <th>75%</th>\n",
       "      <td>0.350000</td>\n",
       "      <td>1.000000</td>\n",
       "      <td>0.603879</td>\n",
       "      <td>0.568333</td>\n",
       "    </tr>\n",
       "    <tr>\n",
       "      <th>max</th>\n",
       "      <td>0.800000</td>\n",
       "      <td>1.000000</td>\n",
       "      <td>2.207444</td>\n",
       "      <td>1.583520</td>\n",
       "    </tr>\n",
       "  </tbody>\n",
       "</table>\n",
       "</div>"
      ],
      "text/plain": [
       "       precision10  reciprocal_rank10      ndcg5     ndcg10\n",
       "count    75.000000          75.000000  75.000000  75.000000\n",
       "mean      0.250667           0.594562   0.435182   0.418149\n",
       "std       0.233871           0.372853   0.440934   0.314972\n",
       "min       0.000000           0.045455   0.000000   0.000000\n",
       "25%       0.100000           0.250000   0.163927   0.196034\n",
       "50%       0.200000           0.500000   0.305466   0.346882\n",
       "75%       0.350000           1.000000   0.603879   0.568333\n",
       "max       0.800000           1.000000   2.207444   1.583520"
      ]
     },
     "execution_count": 71,
     "metadata": {},
     "output_type": "execute_result"
    }
   ],
   "source": [
    "bm25_variant_index_prefix = index_docs_using_custom_similarity(retrieved_docs_per_query, BM25_PLUS)\n",
    "bm25_variant_metrics = queries_metrics_df_for(bm25_variant_index_prefix)\n",
    "bm25_variant_metrics.describe()"
   ]
  },
  {
   "cell_type": "markdown",
   "id": "70abf553",
   "metadata": {},
   "source": [
    "## Evaluation: TFldpIDF"
   ]
  },
  {
   "cell_type": "code",
   "execution_count": 86,
   "id": "e999fe2e",
   "metadata": {},
   "outputs": [
    {
     "name": "stderr",
     "output_type": "stream",
     "text": [
      "100%|██████████| 75/75 [02:36<00:00,  2.08s/it]\n"
     ]
    },
    {
     "data": {
      "text/html": [
       "<div>\n",
       "<style scoped>\n",
       "    .dataframe tbody tr th:only-of-type {\n",
       "        vertical-align: middle;\n",
       "    }\n",
       "\n",
       "    .dataframe tbody tr th {\n",
       "        vertical-align: top;\n",
       "    }\n",
       "\n",
       "    .dataframe thead th {\n",
       "        text-align: right;\n",
       "    }\n",
       "</style>\n",
       "<table border=\"1\" class=\"dataframe\">\n",
       "  <thead>\n",
       "    <tr style=\"text-align: right;\">\n",
       "      <th></th>\n",
       "      <th>precision10</th>\n",
       "      <th>reciprocal_rank10</th>\n",
       "      <th>ndcg5</th>\n",
       "      <th>ndcg10</th>\n",
       "    </tr>\n",
       "  </thead>\n",
       "  <tbody>\n",
       "    <tr>\n",
       "      <th>count</th>\n",
       "      <td>75.000000</td>\n",
       "      <td>75.000000</td>\n",
       "      <td>75.000000</td>\n",
       "      <td>75.000000</td>\n",
       "    </tr>\n",
       "    <tr>\n",
       "      <th>mean</th>\n",
       "      <td>0.314667</td>\n",
       "      <td>0.551758</td>\n",
       "      <td>0.391466</td>\n",
       "      <td>0.374653</td>\n",
       "    </tr>\n",
       "    <tr>\n",
       "      <th>std</th>\n",
       "      <td>0.214787</td>\n",
       "      <td>0.369072</td>\n",
       "      <td>0.330480</td>\n",
       "      <td>0.295046</td>\n",
       "    </tr>\n",
       "    <tr>\n",
       "      <th>min</th>\n",
       "      <td>0.000000</td>\n",
       "      <td>0.034483</td>\n",
       "      <td>0.000000</td>\n",
       "      <td>0.000000</td>\n",
       "    </tr>\n",
       "    <tr>\n",
       "      <th>25%</th>\n",
       "      <td>0.200000</td>\n",
       "      <td>0.250000</td>\n",
       "      <td>0.138009</td>\n",
       "      <td>0.161611</td>\n",
       "    </tr>\n",
       "    <tr>\n",
       "      <th>50%</th>\n",
       "      <td>0.300000</td>\n",
       "      <td>0.500000</td>\n",
       "      <td>0.357534</td>\n",
       "      <td>0.322761</td>\n",
       "    </tr>\n",
       "    <tr>\n",
       "      <th>75%</th>\n",
       "      <td>0.500000</td>\n",
       "      <td>1.000000</td>\n",
       "      <td>0.573160</td>\n",
       "      <td>0.494245</td>\n",
       "    </tr>\n",
       "    <tr>\n",
       "      <th>max</th>\n",
       "      <td>0.900000</td>\n",
       "      <td>1.000000</td>\n",
       "      <td>1.294883</td>\n",
       "      <td>1.297742</td>\n",
       "    </tr>\n",
       "  </tbody>\n",
       "</table>\n",
       "</div>"
      ],
      "text/plain": [
       "       precision10  reciprocal_rank10      ndcg5     ndcg10\n",
       "count    75.000000          75.000000  75.000000  75.000000\n",
       "mean      0.314667           0.551758   0.391466   0.374653\n",
       "std       0.214787           0.369072   0.330480   0.295046\n",
       "min       0.000000           0.034483   0.000000   0.000000\n",
       "25%       0.200000           0.250000   0.138009   0.161611\n",
       "50%       0.300000           0.500000   0.357534   0.322761\n",
       "75%       0.500000           1.000000   0.573160   0.494245\n",
       "max       0.900000           1.000000   1.294883   1.297742"
      ]
     },
     "execution_count": 86,
     "metadata": {},
     "output_type": "execute_result"
    }
   ],
   "source": [
    "bm25_variant_index_prefix = index_docs_using_custom_similarity(retrieved_docs_per_query, TFldpIDF)\n",
    "bm25_variant_metrics = queries_metrics_df_for(bm25_variant_index_prefix)\n",
    "bm25_variant_metrics.describe()"
   ]
  },
  {
   "cell_type": "markdown",
   "id": "70abf553",
   "metadata": {},
   "source": [
    "## Evaluation: BM25L"
   ]
  },
  {
   "cell_type": "code",
   "execution_count": 81,
   "id": "e999fe2e",
   "metadata": {},
   "outputs": [
    {
     "name": "stderr",
     "output_type": "stream",
     "text": [
      "100%|██████████| 75/75 [02:21<00:00,  1.89s/it]\n"
     ]
    },
    {
     "data": {
      "text/html": [
       "<div>\n",
       "<style scoped>\n",
       "    .dataframe tbody tr th:only-of-type {\n",
       "        vertical-align: middle;\n",
       "    }\n",
       "\n",
       "    .dataframe tbody tr th {\n",
       "        vertical-align: top;\n",
       "    }\n",
       "\n",
       "    .dataframe thead th {\n",
       "        text-align: right;\n",
       "    }\n",
       "</style>\n",
       "<table border=\"1\" class=\"dataframe\">\n",
       "  <thead>\n",
       "    <tr style=\"text-align: right;\">\n",
       "      <th></th>\n",
       "      <th>precision10</th>\n",
       "      <th>reciprocal_rank10</th>\n",
       "      <th>ndcg5</th>\n",
       "      <th>ndcg10</th>\n",
       "    </tr>\n",
       "  </thead>\n",
       "  <tbody>\n",
       "    <tr>\n",
       "      <th>count</th>\n",
       "      <td>75.000000</td>\n",
       "      <td>75.000000</td>\n",
       "      <td>75.000000</td>\n",
       "      <td>75.000000</td>\n",
       "    </tr>\n",
       "    <tr>\n",
       "      <th>mean</th>\n",
       "      <td>0.250667</td>\n",
       "      <td>0.550152</td>\n",
       "      <td>0.344414</td>\n",
       "      <td>0.335848</td>\n",
       "    </tr>\n",
       "    <tr>\n",
       "      <th>std</th>\n",
       "      <td>0.207542</td>\n",
       "      <td>0.377987</td>\n",
       "      <td>0.298590</td>\n",
       "      <td>0.254477</td>\n",
       "    </tr>\n",
       "    <tr>\n",
       "      <th>min</th>\n",
       "      <td>0.000000</td>\n",
       "      <td>0.040000</td>\n",
       "      <td>0.000000</td>\n",
       "      <td>0.000000</td>\n",
       "    </tr>\n",
       "    <tr>\n",
       "      <th>25%</th>\n",
       "      <td>0.100000</td>\n",
       "      <td>0.200000</td>\n",
       "      <td>0.080189</td>\n",
       "      <td>0.151945</td>\n",
       "    </tr>\n",
       "    <tr>\n",
       "      <th>50%</th>\n",
       "      <td>0.200000</td>\n",
       "      <td>0.500000</td>\n",
       "      <td>0.326690</td>\n",
       "      <td>0.294325</td>\n",
       "    </tr>\n",
       "    <tr>\n",
       "      <th>75%</th>\n",
       "      <td>0.400000</td>\n",
       "      <td>1.000000</td>\n",
       "      <td>0.526882</td>\n",
       "      <td>0.475986</td>\n",
       "    </tr>\n",
       "    <tr>\n",
       "      <th>max</th>\n",
       "      <td>0.900000</td>\n",
       "      <td>1.000000</td>\n",
       "      <td>1.290886</td>\n",
       "      <td>1.183512</td>\n",
       "    </tr>\n",
       "  </tbody>\n",
       "</table>\n",
       "</div>"
      ],
      "text/plain": [
       "       precision10  reciprocal_rank10      ndcg5     ndcg10\n",
       "count    75.000000          75.000000  75.000000  75.000000\n",
       "mean      0.250667           0.550152   0.344414   0.335848\n",
       "std       0.207542           0.377987   0.298590   0.254477\n",
       "min       0.000000           0.040000   0.000000   0.000000\n",
       "25%       0.100000           0.200000   0.080189   0.151945\n",
       "50%       0.200000           0.500000   0.326690   0.294325\n",
       "75%       0.400000           1.000000   0.526882   0.475986\n",
       "max       0.900000           1.000000   1.290886   1.183512"
      ]
     },
     "execution_count": 81,
     "metadata": {},
     "output_type": "execute_result"
    }
   ],
   "source": [
    "bm25_variant_index_prefix = index_docs_using_custom_similarity(retrieved_docs_per_query, BM25L)\n",
    "bm25_variant_metrics = queries_metrics_df_for(bm25_variant_index_prefix)\n",
    "bm25_variant_metrics.describe()"
   ]
  },
  {
   "cell_type": "markdown",
   "id": "fb346fa8",
   "metadata": {},
   "source": [
    "## Evaluation: ATIRE"
   ]
  },
  {
   "cell_type": "code",
   "execution_count": 82,
   "id": "00d2d900",
   "metadata": {},
   "outputs": [
    {
     "name": "stderr",
     "output_type": "stream",
     "text": [
      "100%|██████████| 75/75 [02:35<00:00,  2.08s/it]\n"
     ]
    },
    {
     "data": {
      "text/html": [
       "<div>\n",
       "<style scoped>\n",
       "    .dataframe tbody tr th:only-of-type {\n",
       "        vertical-align: middle;\n",
       "    }\n",
       "\n",
       "    .dataframe tbody tr th {\n",
       "        vertical-align: top;\n",
       "    }\n",
       "\n",
       "    .dataframe thead th {\n",
       "        text-align: right;\n",
       "    }\n",
       "</style>\n",
       "<table border=\"1\" class=\"dataframe\">\n",
       "  <thead>\n",
       "    <tr style=\"text-align: right;\">\n",
       "      <th></th>\n",
       "      <th>precision10</th>\n",
       "      <th>reciprocal_rank10</th>\n",
       "      <th>ndcg5</th>\n",
       "      <th>ndcg10</th>\n",
       "    </tr>\n",
       "  </thead>\n",
       "  <tbody>\n",
       "    <tr>\n",
       "      <th>count</th>\n",
       "      <td>75.000000</td>\n",
       "      <td>75.000000</td>\n",
       "      <td>75.000000</td>\n",
       "      <td>75.000000</td>\n",
       "    </tr>\n",
       "    <tr>\n",
       "      <th>mean</th>\n",
       "      <td>0.250667</td>\n",
       "      <td>0.594562</td>\n",
       "      <td>0.435182</td>\n",
       "      <td>0.418149</td>\n",
       "    </tr>\n",
       "    <tr>\n",
       "      <th>std</th>\n",
       "      <td>0.233871</td>\n",
       "      <td>0.372853</td>\n",
       "      <td>0.440934</td>\n",
       "      <td>0.314972</td>\n",
       "    </tr>\n",
       "    <tr>\n",
       "      <th>min</th>\n",
       "      <td>0.000000</td>\n",
       "      <td>0.045455</td>\n",
       "      <td>0.000000</td>\n",
       "      <td>0.000000</td>\n",
       "    </tr>\n",
       "    <tr>\n",
       "      <th>25%</th>\n",
       "      <td>0.100000</td>\n",
       "      <td>0.250000</td>\n",
       "      <td>0.163927</td>\n",
       "      <td>0.196034</td>\n",
       "    </tr>\n",
       "    <tr>\n",
       "      <th>50%</th>\n",
       "      <td>0.200000</td>\n",
       "      <td>0.500000</td>\n",
       "      <td>0.305466</td>\n",
       "      <td>0.346882</td>\n",
       "    </tr>\n",
       "    <tr>\n",
       "      <th>75%</th>\n",
       "      <td>0.350000</td>\n",
       "      <td>1.000000</td>\n",
       "      <td>0.603879</td>\n",
       "      <td>0.568333</td>\n",
       "    </tr>\n",
       "    <tr>\n",
       "      <th>max</th>\n",
       "      <td>0.800000</td>\n",
       "      <td>1.000000</td>\n",
       "      <td>2.207444</td>\n",
       "      <td>1.583520</td>\n",
       "    </tr>\n",
       "  </tbody>\n",
       "</table>\n",
       "</div>"
      ],
      "text/plain": [
       "       precision10  reciprocal_rank10      ndcg5     ndcg10\n",
       "count    75.000000          75.000000  75.000000  75.000000\n",
       "mean      0.250667           0.594562   0.435182   0.418149\n",
       "std       0.233871           0.372853   0.440934   0.314972\n",
       "min       0.000000           0.045455   0.000000   0.000000\n",
       "25%       0.100000           0.250000   0.163927   0.196034\n",
       "50%       0.200000           0.500000   0.305466   0.346882\n",
       "75%       0.350000           1.000000   0.603879   0.568333\n",
       "max       0.800000           1.000000   2.207444   1.583520"
      ]
     },
     "execution_count": 82,
     "metadata": {},
     "output_type": "execute_result"
    }
   ],
   "source": [
    "bm25_variant_index_prefix = index_docs_using_custom_similarity(retrieved_docs_per_query, ATIRE)\n",
    "bm25_variant_metrics = queries_metrics_df_for(bm25_variant_index_prefix)\n",
    "bm25_variant_metrics.describe()"
   ]
  },
  {
   "cell_type": "markdown",
   "id": "fb346fa8",
   "metadata": {},
   "source": [
    "## Evaluation: Lucene accurate"
   ]
  },
  {
   "cell_type": "code",
   "execution_count": 84,
   "id": "5edbf816",
   "metadata": {},
   "outputs": [
    {
     "name": "stderr",
     "output_type": "stream",
     "text": [
      "100%|██████████| 75/75 [02:38<00:00,  2.11s/it]\n"
     ]
    },
    {
     "data": {
      "text/html": [
       "<div>\n",
       "<style scoped>\n",
       "    .dataframe tbody tr th:only-of-type {\n",
       "        vertical-align: middle;\n",
       "    }\n",
       "\n",
       "    .dataframe tbody tr th {\n",
       "        vertical-align: top;\n",
       "    }\n",
       "\n",
       "    .dataframe thead th {\n",
       "        text-align: right;\n",
       "    }\n",
       "</style>\n",
       "<table border=\"1\" class=\"dataframe\">\n",
       "  <thead>\n",
       "    <tr style=\"text-align: right;\">\n",
       "      <th></th>\n",
       "      <th>precision10</th>\n",
       "      <th>reciprocal_rank10</th>\n",
       "      <th>ndcg5</th>\n",
       "      <th>ndcg10</th>\n",
       "    </tr>\n",
       "  </thead>\n",
       "  <tbody>\n",
       "    <tr>\n",
       "      <th>count</th>\n",
       "      <td>75.000000</td>\n",
       "      <td>75.000000</td>\n",
       "      <td>75.000000</td>\n",
       "      <td>75.000000</td>\n",
       "    </tr>\n",
       "    <tr>\n",
       "      <th>mean</th>\n",
       "      <td>0.333333</td>\n",
       "      <td>0.569339</td>\n",
       "      <td>0.400697</td>\n",
       "      <td>0.392067</td>\n",
       "    </tr>\n",
       "    <tr>\n",
       "      <th>std</th>\n",
       "      <td>0.226807</td>\n",
       "      <td>0.376123</td>\n",
       "      <td>0.334729</td>\n",
       "      <td>0.296532</td>\n",
       "    </tr>\n",
       "    <tr>\n",
       "      <th>min</th>\n",
       "      <td>0.000000</td>\n",
       "      <td>0.027778</td>\n",
       "      <td>0.000000</td>\n",
       "      <td>0.000000</td>\n",
       "    </tr>\n",
       "    <tr>\n",
       "      <th>25%</th>\n",
       "      <td>0.200000</td>\n",
       "      <td>0.200000</td>\n",
       "      <td>0.143370</td>\n",
       "      <td>0.178111</td>\n",
       "    </tr>\n",
       "    <tr>\n",
       "      <th>50%</th>\n",
       "      <td>0.300000</td>\n",
       "      <td>0.500000</td>\n",
       "      <td>0.431879</td>\n",
       "      <td>0.372505</td>\n",
       "    </tr>\n",
       "    <tr>\n",
       "      <th>75%</th>\n",
       "      <td>0.500000</td>\n",
       "      <td>1.000000</td>\n",
       "      <td>0.581369</td>\n",
       "      <td>0.517049</td>\n",
       "    </tr>\n",
       "    <tr>\n",
       "      <th>max</th>\n",
       "      <td>0.900000</td>\n",
       "      <td>1.000000</td>\n",
       "      <td>1.430514</td>\n",
       "      <td>1.409426</td>\n",
       "    </tr>\n",
       "  </tbody>\n",
       "</table>\n",
       "</div>"
      ],
      "text/plain": [
       "       precision10  reciprocal_rank10      ndcg5     ndcg10\n",
       "count    75.000000          75.000000  75.000000  75.000000\n",
       "mean      0.333333           0.569339   0.400697   0.392067\n",
       "std       0.226807           0.376123   0.334729   0.296532\n",
       "min       0.000000           0.027778   0.000000   0.000000\n",
       "25%       0.200000           0.200000   0.143370   0.178111\n",
       "50%       0.300000           0.500000   0.431879   0.372505\n",
       "75%       0.500000           1.000000   0.581369   0.517049\n",
       "max       0.900000           1.000000   1.430514   1.409426"
      ]
     },
     "execution_count": 84,
     "metadata": {},
     "output_type": "execute_result"
    }
   ],
   "source": [
    "bm25_variant_index_prefix = index_docs_using_custom_similarity(retrieved_docs_per_query, LUCENE_ACCURATE)\n",
    "bm25_variant_metrics = queries_metrics_df_for(bm25_variant_index_prefix)\n",
    "bm25_variant_metrics.describe()"
   ]
  }
 ],
 "metadata": {
  "interpreter": {
   "hash": "85932f7dd12c26a68d8357ca0eaa40e49b6d33d52fa7cbcbedc1d2a46e36d1ae"
  },
  "kernelspec": {
   "display_name": "Python 3.8.12",
   "language": "python",
   "name": "python3"
  },
  "language_info": {
   "codemirror_mode": {
    "name": "ipython",
    "version": 3
   },
   "file_extension": ".py",
   "mimetype": "text/x-python",
   "name": "python",
   "nbconvert_exporter": "python",
   "pygments_lexer": "ipython3",
   "version": "3.8.12"
  }
 },
 "nbformat": 4,
 "nbformat_minor": 5
}
